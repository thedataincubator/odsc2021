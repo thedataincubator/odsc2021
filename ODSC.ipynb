{
 "cells": [
  {
   "cell_type": "markdown",
   "metadata": {
    "slideshow": {
     "slide_type": "slide"
    }
   },
   "source": [
    "# Teaching Data Science Effectively\n",
    "\n",
    "### Robert Schroll\n",
    "### The Data Incubator\n",
    "\n",
    "Follow along at [bit.ly/tdi-odsc](https://bit.ly/tdi-odsc)"
   ]
  },
  {
   "cell_type": "markdown",
   "metadata": {
    "slideshow": {
     "slide_type": "subslide"
    }
   },
   "source": [
    "## Data Scientists Needed\n",
    "\n",
    "Quanthub estimates a shortage of 250,000 data scientists in 2020.\n",
    "\n",
    "Few are coming directly from academia."
   ]
  },
  {
   "cell_type": "markdown",
   "metadata": {
    "slideshow": {
     "slide_type": "notes"
    }
   },
   "source": [
    "[Quanthub's survey](https://quanthub.com/data-scientist-shortage-2020/) is based on data from 2019 and 2020, so it probably does not fully reflect the effects of the pandemic.  But hiring remains strong, and this estimate is consistent with the order of magnitude from other research."
   ]
  },
  {
   "cell_type": "markdown",
   "metadata": {
    "slideshow": {
     "slide_type": "subslide"
    }
   },
   "source": [
    "## Data Science Skills Needed\n",
    "\n",
    "Many who don't consider themselves data scientists benefit from data science skills.\n",
    "\n",
    "Pandas can be a game-changer, by automating spreadsheet tasks."
   ]
  },
  {
   "cell_type": "markdown",
   "metadata": {
    "slideshow": {
     "slide_type": "subslide"
    }
   },
   "source": [
    "## Data Science Skills\n",
    "\n",
    "Data Scientists need to combine skills in\n",
    "1. Data analysis\n",
    "2. Programming\n",
    "3. Communication"
   ]
  },
  {
   "cell_type": "markdown",
   "metadata": {
    "slideshow": {
     "slide_type": "subslide"
    }
   },
   "source": [
    "## About the Data Incubator\n",
    "\n",
    "The Data Incubator trains recent graduates and experienced workers.\n",
    "\n",
    "Our Data Science Fellowship is an 8-week bootcamp.\n",
    "- 1000+ students trained in the basics of data science.\n",
    "- Students placed at 100+ companies, including Genentech, Square Space, and Freddie Mac\n",
    "\n",
    "We run private, customized trainings for dozens of companies."
   ]
  },
  {
   "cell_type": "markdown",
   "metadata": {
    "slideshow": {
     "slide_type": "subslide"
    }
   },
   "source": [
    "## About Me\n",
    "\n",
    "I have been programming and conducting data analysis for most of this century.\n",
    "\n",
    "First as a physicist, now as a data scientist.\n",
    "\n",
    "I have been teaching data science for 5 years."
   ]
  },
  {
   "cell_type": "markdown",
   "metadata": {
    "slideshow": {
     "slide_type": "slide"
    }
   },
   "source": [
    "## Teaching Data Science Effectively\n",
    "\n",
    "1. Jupyter as a pedagogical tool\n",
    "2. Learning by doing\n",
    "3. The importance of failure\n",
    "4. Where we're still learning"
   ]
  },
  {
   "cell_type": "markdown",
   "metadata": {
    "slideshow": {
     "slide_type": "slide"
    }
   },
   "source": [
    "# Jupyter as a Pedagogical Tool\n",
    "\n",
    "Jupyter notebooks are a great tool for data science.\n",
    "\n",
    "They also work well for teaching."
   ]
  },
  {
   "cell_type": "markdown",
   "metadata": {
    "slideshow": {
     "slide_type": "subslide"
    }
   },
   "source": [
    "## Mixing Languages\n",
    "\n",
    "Data scientists are often moving between multiple languages and tools.\n",
    "\n",
    "Jupyter and the IPython kernel allow you to mix many of these tools in a single interface."
   ]
  },
  {
   "cell_type": "markdown",
   "metadata": {
    "slideshow": {
     "slide_type": "subslide"
    }
   },
   "source": [
    "## Python"
   ]
  },
  {
   "cell_type": "code",
   "execution_count": null,
   "metadata": {},
   "outputs": [],
   "source": [
    "for i in range(10):\n",
    "    print('Hi! ' * i)"
   ]
  },
  {
   "cell_type": "markdown",
   "metadata": {
    "slideshow": {
     "slide_type": "subslide"
    }
   },
   "source": [
    "## Bash\n",
    "\n",
    "Shell code can be run with the `!` shortcut."
   ]
  },
  {
   "cell_type": "code",
   "execution_count": null,
   "metadata": {},
   "outputs": [],
   "source": [
    "! grep \"Bash\" ODSC.ipynb"
   ]
  },
  {
   "cell_type": "markdown",
   "metadata": {
    "slideshow": {
     "slide_type": "subslide"
    }
   },
   "source": [
    "## Bash\n",
    "\n",
    "There is also a bash magic, for longer code sections."
   ]
  },
  {
   "cell_type": "code",
   "execution_count": null,
   "metadata": {},
   "outputs": [],
   "source": [
    "%%bash\n",
    "\n",
    "for f in *; do\n",
    "    echo \"Hi $f\"\n",
    "done"
   ]
  },
  {
   "cell_type": "markdown",
   "metadata": {
    "slideshow": {
     "slide_type": "subslide"
    }
   },
   "source": [
    "## SQL\n",
    "\n",
    "The [IPython SQL magic](https://github.com/catherinedevlin/ipython-sql) allows SQL code directly in cells."
   ]
  },
  {
   "cell_type": "code",
   "execution_count": null,
   "metadata": {},
   "outputs": [],
   "source": [
    "%load_ext sql\n",
    "%sql sqlite:///small_data/customers.sqlite"
   ]
  },
  {
   "cell_type": "code",
   "execution_count": null,
   "metadata": {},
   "outputs": [],
   "source": [
    "%%sql\n",
    "\n",
    "SELECT * FROM customers LIMIT 5;"
   ]
  },
  {
   "cell_type": "markdown",
   "metadata": {
    "slideshow": {
     "slide_type": "subslide"
    }
   },
   "source": [
    "## HTML/JS\n",
    "\n",
    "Jupyter already has tools to display HTML documents, but our [iHTML](https://github.com/thedataincubator/ihtml) package lets you demo HTML code directly in a notebook.\n",
    "\n",
    "First, we'll create a Javascript document:"
   ]
  },
  {
   "cell_type": "code",
   "execution_count": null,
   "metadata": {},
   "outputs": [],
   "source": [
    "import ihtml"
   ]
  },
  {
   "cell_type": "code",
   "execution_count": null,
   "metadata": {},
   "outputs": [],
   "source": [
    "%%jsdoc clicker\n",
    "document.addEventListener(\"DOMContentLoaded\", function(e) {\n",
    "    document.querySelector(\"h1\").addEventListener(\"click\", function(event) {\n",
    "        var div = document.createElement(\"div\");\n",
    "        div.textContent = \"Hi!\";\n",
    "        document.body.appendChild(div);\n",
    "    })\n",
    "})"
   ]
  },
  {
   "cell_type": "markdown",
   "metadata": {
    "slideshow": {
     "slide_type": "subslide"
    }
   },
   "source": [
    "## HTML/JS\n",
    "\n",
    "Then we can use this inside a HTML document:"
   ]
  },
  {
   "cell_type": "code",
   "execution_count": null,
   "metadata": {
    "slideshow": {
     "slide_type": "-"
    }
   },
   "outputs": [],
   "source": [
    "%%ihtml 200\n",
    "<html>\n",
    "    <head>\n",
    "        <style>\n",
    "            body { background: #eee; }\n",
    "        </style>\n",
    "        {{ clicker | jsdoc }}\n",
    "    </head>\n",
    "    <body>\n",
    "        <h1>Click me!</h1>\n",
    "    </body>\n",
    "</html>"
   ]
  },
  {
   "cell_type": "markdown",
   "metadata": {
    "slideshow": {
     "slide_type": "subslide"
    }
   },
   "source": [
    "## Benefits of Jupyter Notebooks\n",
    "\n",
    "**Interactivity:** Cause and effect are tightly coupled.\n",
    "\n",
    "**Modifiability:** Easy to make small changes and see effects.\n",
    "\n",
    "Together, these encourage experimentation."
   ]
  },
  {
   "cell_type": "markdown",
   "metadata": {
    "slideshow": {
     "slide_type": "subslide"
    }
   },
   "source": [
    "## Deploying Jupyter for Everyone\n",
    "\n",
    "[Jupyter](https://jupyter.org/) provides a server for a single user.\n",
    "\n",
    "[JupyterHub](https://jupyter.org/hub) provides many users their own servers.\n",
    "\n",
    "[Zero-to-JupyterHub](https://zero-to-jupyterhub.readthedocs.io/en/latest/) runs JupyterHub on a K8s cluster.\n",
    "\n",
    "All for free, with a wonderful community!\n",
    "\n",
    "For details on our set up, see [out DigitalOcean Tech Talk](https://www.digitalocean.com/community/tech_talks/scaling-a-school-bringing-data-science-curriculum-to-20-000-students-in-the-cloud)."
   ]
  },
  {
   "cell_type": "markdown",
   "metadata": {
    "slideshow": {
     "slide_type": "slide"
    }
   },
   "source": [
    "## Learning by Doing\n",
    "\n",
    "Promote action at four levels:\n",
    "1. Prepared interactive elements\n",
    "2. Small inline coding exercises\n",
    "3. Stand-alone \"miniprojects\"\n",
    "4. Capstone project"
   ]
  },
  {
   "cell_type": "markdown",
   "metadata": {
    "slideshow": {
     "slide_type": "subslide"
    }
   },
   "source": [
    "## Prepared Interactive Elements"
   ]
  },
  {
   "cell_type": "markdown",
   "metadata": {
    "slideshow": {
     "slide_type": "subslide"
    }
   },
   "source": [
    "## Inline Coding Exercises"
   ]
  },
  {
   "cell_type": "markdown",
   "metadata": {
    "slideshow": {
     "slide_type": "subslide"
    }
   },
   "source": [
    "## Miniprojects"
   ]
  },
  {
   "cell_type": "markdown",
   "metadata": {
    "slideshow": {
     "slide_type": "subslide"
    }
   },
   "source": [
    "## Capstone Project\n",
    "\n",
    "Data scientists must solve the *right* problems and communicate the results.\n",
    "\n",
    "Students design and execute a full data science project.\n",
    "\n",
    "Usual problems are not technical, but around use cases.\n",
    "\n",
    "Some recent projects:\n",
    "- Finding broadband opportunities for under-served communities in Tennessee.\n",
    "- Identifying useful product reviews.\n",
    "- Finding shelter pets for adoption by image search."
   ]
  },
  {
   "cell_type": "markdown",
   "metadata": {
    "slideshow": {
     "slide_type": "slide"
    }
   },
   "source": [
    "## The Importance of Failure\n",
    "\n",
    "You need both successes and failures to train a ML model.\n",
    "\n",
    "Students learn as much from failures as from successes."
   ]
  },
  {
   "cell_type": "markdown",
   "metadata": {
    "slideshow": {
     "slide_type": "subslide"
    }
   },
   "source": [
    "## The Benefits of Failure\n",
    "\n",
    "Failure is the default state of programming.  Most time is spent debugging.\n",
    "\n",
    "The marginal cost of code is $0. If there were known solutions, they would already be in a library.\n",
    "\n",
    "Students need to learn how to find their way out of problems.\n",
    "\n",
    "Hand-holding does not promote self-sufficiency."
   ]
  },
  {
   "cell_type": "markdown",
   "metadata": {
    "slideshow": {
     "slide_type": "subslide"
    }
   },
   "source": [
    "## Google-fu is a Skill\n",
    "\n",
    "<img src=\"https://i.redd.it/7lfrc6p5xna21.png\" width=\"70%\">"
   ]
  },
  {
   "cell_type": "markdown",
   "metadata": {
    "slideshow": {
     "slide_type": "subslide"
    }
   },
   "source": [
    "## Designing for Failure\n",
    "\n",
    "More than just fill-in-the-blank.\n",
    "\n",
    "Problems should involve aspects not covered previously.\n",
    "\n",
    "Projects should have mutliple roots to success."
   ]
  },
  {
   "cell_type": "markdown",
   "metadata": {
    "slideshow": {
     "slide_type": "subslide"
    }
   },
   "source": [
    "## Helping Students Overcome Failure\n",
    "\n",
    "Provide sketches or outlines of potential solutions.\n",
    "\n",
    "Checkpoints let students check their own work.\n",
    "\n",
    "Make instructors available:\n",
    "- Lecture\n",
    "- Office hours\n",
    "- One-on-one meetings\n",
    "- Slack"
   ]
  },
  {
   "cell_type": "markdown",
   "metadata": {
    "slideshow": {
     "slide_type": "subslide"
    }
   },
   "source": [
    "## Instructor Failures are Teaching Moments\n",
    "\n",
    "Students learn the most when the instructor gets stuck.\n",
    "\n",
    "Yes, some _schadenfreude_.\n",
    "\n",
    "But also, an invaluable chance to teach debugging skills.\n",
    "\n",
    "$\\Rightarrow$ Get into trouble while teaching!"
   ]
  },
  {
   "cell_type": "markdown",
   "metadata": {
    "slideshow": {
     "slide_type": "slide"
    }
   },
   "source": [
    "## Still Learning: Demoing Failure\n",
    "\n",
    "Prepared failures don't resonate as well.\n",
    "\n",
    "It's hard to fake the panic of facing a bewildering bug.\n",
    "\n",
    "Part of bug hunting is going down, and then abandoning blind alleys."
   ]
  },
  {
   "cell_type": "markdown",
   "metadata": {
    "slideshow": {
     "slide_type": "subslide"
    }
   },
   "source": [
    "## Still Learning: Teaching Generalization\n",
    "\n",
    "Some students want a flow chart to follow.\n",
    "\n",
    "Repeat examples step by step, without understanding logic.\n",
    "\n",
    "These students struggle mightily on miniprojects."
   ]
  },
  {
   "cell_type": "markdown",
   "metadata": {
    "slideshow": {
     "slide_type": "subslide"
    }
   },
   "source": [
    "## Still Learning: Magical Thinking\n",
    "\n",
    "Some students treat code as a magical incantation.\n",
    "\n",
    "Rearrange syntax until it runs.\n",
    "\n",
    "They seem uninterested in understanding *why* code failed."
   ]
  },
  {
   "cell_type": "markdown",
   "metadata": {
    "slideshow": {
     "slide_type": "slide"
    }
   },
   "source": [
    "## Find Out More\n",
    "\n",
    "- Data Science Fellowship\n",
    "- Data Engineering Fellowship\n",
    "- Private Training\n",
    "\n",
    "[thedataincubator.com](https://www.thedataincubator.com)\n",
    "\n",
    "Robert Schroll &mdash; robert@thedataincubator.com\n",
    "\n",
    "Booth #9"
   ]
  }
 ],
 "metadata": {
  "celltoolbar": "Slideshow",
  "kernelspec": {
   "display_name": "Python 3",
   "language": "python",
   "name": "python3"
  },
  "language_info": {
   "codemirror_mode": {
    "name": "ipython",
    "version": 3
   },
   "file_extension": ".py",
   "mimetype": "text/x-python",
   "name": "python",
   "nbconvert_exporter": "python",
   "pygments_lexer": "ipython3",
   "version": "3.8.5"
  },
  "rise": {
   "overlay": "<div class='tdi-bg'></div><div class='tdi-footer'><span class='left'>pragmaticinstitute.com</span><span class='right'>Pragmatic Institute data science powered by The Data Incubator</span></div>",
   "scroll": true
  }
 },
 "nbformat": 4,
 "nbformat_minor": 4
}
